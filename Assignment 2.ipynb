{
 "cells": [
  {
   "cell_type": "markdown",
   "id": "26bfcf1f",
   "metadata": {},
   "source": [
    "# Generate a list of 100 Integers Between 90 and 130 "
   ]
  },
  {
   "cell_type": "code",
   "execution_count": 7,
   "id": "df203845",
   "metadata": {},
   "outputs": [
    {
     "name": "stdout",
     "output_type": "stream",
     "text": [
      "Mean: 109.51\n",
      "Median: 110.0\n",
      "Mode: 110\n",
      "Weighted Mean: 109.03435114503817\n",
      "Geometric Mean: 108.79692764263933\n",
      "Harmonic Mean: 108.08790765740294\n",
      "Midrange: 110.0\n",
      "Trimmed Mean: 109.44444444444444\n"
     ]
    },
    {
     "name": "stderr",
     "output_type": "stream",
     "text": [
      "C:\\Users\\Prince Ekka\\AppData\\Local\\Temp\\ipykernel_10988\\966754801.py:21: FutureWarning: Unlike other reduction functions (e.g. `skew`, `kurtosis`), the default behavior of `mode` typically preserves the axis it acts along. In SciPy 1.11.0, this behavior will change: the default value of `keepdims` will become False, the `axis` over which the statistic is taken will be eliminated, and the value None will no longer be accepted. Set `keepdims` to True or False to avoid this warning.\n",
      "  return mode(data)[0][0]\n"
     ]
    }
   ],
   "source": [
    "import random\n",
    "import numpy as np\n",
    "from scipy.stats import trim_mean, gmean, hmean, mode\n",
    "\n",
    "# Generate list of integers\n",
    "int_list = random.choices(range(90, 131), k=100)\n",
    "\n",
    "# Mean\n",
    "def calculate_mean(data):\n",
    "    return sum(data) / len(data)\n",
    "\n",
    "# Median\n",
    "def calculate_median(data):\n",
    "    sorted_data = sorted(data)\n",
    "    n = len(data)\n",
    "    mid = n // 2\n",
    "    return (sorted_data[mid] if n % 2 != 0 else (sorted_data[mid - 1] + sorted_data[mid]) / 2)\n",
    "\n",
    "# Mode\n",
    "def calculate_mode(data):\n",
    "    return mode(data)[0][0]\n",
    "\n",
    "# Weighted Mean\n",
    "def weighted_mean(values, weights):\n",
    "    return sum(v * w for v, w in zip(values, weights)) / sum(weights)\n",
    "\n",
    "# Geometric Mean\n",
    "def calculate_geometric_mean(data):\n",
    "    return gmean(data)\n",
    "\n",
    "# Harmonic Mean\n",
    "def calculate_harmonic_mean(data):\n",
    "    return hmean(data)\n",
    "\n",
    "# Midrange\n",
    "def calculate_midrange(data):\n",
    "    return (min(data) + max(data)) / 2\n",
    "\n",
    "# Trimmed Mean (5% exclusion)\n",
    "def calculate_trimmed_mean(data, proportion=0.05):\n",
    "    return trim_mean(data, proportion)\n",
    "\n",
    "# Display results\n",
    "weights = random.choices(range(1, 5), k=100)\n",
    "print(\"Mean:\", calculate_mean(int_list))\n",
    "print(\"Median:\", calculate_median(int_list))\n",
    "print(\"Mode:\", calculate_mode(int_list))\n",
    "print(\"Weighted Mean:\", weighted_mean(int_list, weights))\n",
    "print(\"Geometric Mean:\", calculate_geometric_mean(int_list))\n",
    "print(\"Harmonic Mean:\", calculate_harmonic_mean(int_list))\n",
    "print(\"Midrange:\", calculate_midrange(int_list))\n",
    "print(\"Trimmed Mean:\", calculate_trimmed_mean(int_list, proportion=0.05))\n",
    "\n",
    "from scipy.stats import mode\n",
    "\n",
    "def get_mode(data):\n",
    "    # Explicitly set keepdims to False to match future behavior\n",
    "    return mode(data, keepdims=False)[0][0]\n"
   ]
  },
  {
   "cell_type": "markdown",
   "id": "f6b85235",
   "metadata": {},
   "source": [
    "#  2) Generate a list of 500 integers containing values between 200 to 300 and store it in the variable `int_list2`.\n",
    "After generating the list, find the following:"
   ]
  },
  {
   "cell_type": "code",
   "execution_count": 14,
   "id": "f3d03649",
   "metadata": {},
   "outputs": [
    {
     "name": "stdout",
     "output_type": "stream",
     "text": [
      "Expected Value: 3.2\n",
      "Variance: 1.56\n"
     ]
    }
   ],
   "source": [
    "class DiscreteRandomVariable:\n",
    "    def __init__(self, values, probabilities):\n",
    "        \"\"\"\n",
    "        Initialize the discrete random variable.\n",
    "        \n",
    "        :param values: List of possible values of the random variable.\n",
    "        :param probabilities: List of probabilities corresponding to each value.\n",
    "                              Probabilities must sum to 1.\n",
    "        \"\"\"\n",
    "        if len(values) != len(probabilities):\n",
    "            raise ValueError(\"The number of values must match the number of probabilities.\")\n",
    "        if not all(0 <= p <= 1 for p in probabilities):\n",
    "            raise ValueError(\"Probabilities must be between 0 and 1.\")\n",
    "        if not abs(sum(probabilities) - 1) < 1e-9:\n",
    "            raise ValueError(\"Probabilities must sum to 1.\")\n",
    "        \n",
    "        self.values = values\n",
    "        self.probabilities = probabilities\n",
    "\n",
    "    def expected_value(self):\n",
    "        \"\"\"\n",
    "        Calculate the expected value (mean) of the random variable.\n",
    "        \n",
    "        :return: Expected value as a float.\n",
    "        \"\"\"\n",
    "        return sum(v * p for v, p in zip(self.values, self.probabilities))\n",
    "\n",
    "    def variance(self):\n",
    "        \"\"\"\n",
    "        Calculate the variance of the random variable.\n",
    "        \n",
    "        :return: Variance as a float.\n",
    "        \"\"\"\n",
    "        mean = self.expected_value()\n",
    "        return sum((v - mean) ** 2 * p for v, p in zip(self.values, self.probabilities))\n",
    "\n",
    "\n",
    "values = [1, 2, 3, 4, 5]\n",
    "probabilities = [0.1, 0.2, 0.3, 0.2, 0.2]\n",
    "\n",
    "drv = DiscreteRandomVariable(values, probabilities)\n",
    "\n",
    "# Calculate expected value and variance\n",
    "print(\"Expected Value:\", drv.expected_value())\n",
    "print(\"Variance:\", drv.variance())\n"
   ]
  },
  {
   "cell_type": "markdown",
   "id": "78e20cc4",
   "metadata": {},
   "source": [
    " # Task 1: Simulate Rolling a Six-Sided Die\n",
    " python\n",
    "Copy code\n"
   ]
  },
  {
   "cell_type": "code",
   "execution_count": 15,
   "id": "3e7f29c2",
   "metadata": {},
   "outputs": [
    {
     "name": "stdout",
     "output_type": "stream",
     "text": [
      "Expected Value (Mean): 3.617\n",
      "Variance: 2.918310999999989\n"
     ]
    }
   ],
   "source": [
    "import random\n",
    "\n",
    "def simulate_die_rolls(num_rolls):\n",
    "    outcomes = [random.randint(1, 6) for _ in range(num_rolls)]\n",
    "    mean = sum(outcomes) / len(outcomes)\n",
    "    variance = sum((x - mean) ** 2 for x in outcomes) / len(outcomes)\n",
    "    return mean, variance\n",
    "\n",
    "\n",
    "mean, variance = simulate_die_rolls(1000)\n",
    "print(f\"Expected Value (Mean): {mean}\")\n",
    "print(f\"Variance: {variance}\")"
   ]
  },
  {
   "cell_type": "markdown",
   "id": "e580235a",
   "metadata": {},
   "source": [
    "# 5) Generate Random Samples for Binomial and Poisson Distributions"
   ]
  },
  {
   "cell_type": "code",
   "execution_count": 21,
   "id": "4ca083d2",
   "metadata": {},
   "outputs": [
    {
     "name": "stdout",
     "output_type": "stream",
     "text": [
      "Binomial Distribution -> Mean: 5.054, Variance: 2.4910840000000003\n",
      "Poisson Distribution -> Mean: 3.977, Variance: 4.092471\n"
     ]
    }
   ],
   "source": [
    "import numpy as np\n",
    "\n",
    "def generate_samples(distribution, params, size):\n",
    "    if distribution == \"binomial\":\n",
    "        samples = np.random.binomial(params[\"n\"], params[\"p\"], size)\n",
    "    elif distribution == \"poisson\":\n",
    "        samples = np.random.poisson(params[\"lambda\"], size)\n",
    "    else:\n",
    "        raise ValueError(\"Unsupported distribution.\")\n",
    "    mean = np.mean(samples)\n",
    "    variance = np.var(samples)\n",
    "    return samples, mean, variance\n",
    "\n",
    "\n",
    "samples, mean, variance = generate_samples(\"binomial\", {\"n\": 10, \"p\": 0.5}, 1000)\n",
    "print(f\"Binomial Distribution -> Mean: {mean}, Variance: {variance}\")\n",
    "samples, mean, variance = generate_samples(\"poisson\", {\"lambda\": 4}, 1000)\n",
    "print(f\"Poisson Distribution -> Mean: {mean}, Variance: {variance}\")"
   ]
  },
  {
   "cell_type": "markdown",
   "id": "91740bfc",
   "metadata": {},
   "source": [
    "# 6) Gaussian (Normal) Distribution"
   ]
  },
  {
   "cell_type": "code",
   "execution_count": 20,
   "id": "f2a6c34e",
   "metadata": {},
   "outputs": [
    {
     "name": "stdout",
     "output_type": "stream",
     "text": [
      "Normal Distribution -> Mean: 0.002775430546429533, Variance: 0.962423972632226, Std Dev: 0.9810320956177866\n"
     ]
    }
   ],
   "source": [
    "def normal_distribution_stats(size, mean=0, std_dev=1):\n",
    "    samples = np.random.normal(mean, std_dev, size)\n",
    "    mean_calc = np.mean(samples)\n",
    "    variance = np.var(samples)\n",
    "    std_deviation = np.std(samples)\n",
    "    return mean_calc, variance, std_deviation\n",
    "\n",
    "mean, variance, std_dev = normal_distribution_stats(1000)\n",
    "print(f\"Normal Distribution -> Mean: {mean}, Variance: {variance}, Std Dev: {std_dev}\")"
   ]
  },
  {
   "cell_type": "markdown",
   "id": "127cd51e",
   "metadata": {},
   "source": [
    "# 7) Seaborn's tips Dataset Analysis"
   ]
  },
  {
   "cell_type": "code",
   "execution_count": 18,
   "id": "19f38d42",
   "metadata": {},
   "outputs": [
    {
     "name": "stdout",
     "output_type": "stream",
     "text": [
      "Skewness of total_bill: 1.1262346334818638\n",
      "Skewness of tip: 1.4564266884221506\n",
      "Total Bill Skewness Type: Positive Skewness\n",
      "Tip Skewness Type: Positive Skewness\n",
      "Covariance between total_bill and tip: 8.323501629224854\n",
      "Pearson Correlation between total_bill and tip: 0.6757341092113645\n"
     ]
    },
    {
     "data": {
      "image/png": "[encoded data removed]",
      "text/plain": [
       "<Figure size 640x480 with 1 Axes>"
      ]
     },
     "metadata": {},
     "output_type": "display_data"
    }
   ],
   "source": [
    "import seaborn as sns\n",
    "import pandas as pd\n",
    "from scipy.stats import skew, pearsonr\n",
    "import matplotlib.pyplot as plt\n",
    "\n",
    "# Load dataset\n",
    "tips = sns.load_dataset(\"tips\")\n",
    "\n",
    "# (i) Calculate skewness\n",
    "def calculate_skewness(column):\n",
    "    return skew(column)\n",
    "\n",
    "print(\"Skewness of total_bill:\", calculate_skewness(tips[\"total_bill\"]))\n",
    "print(\"Skewness of tip:\", calculate_skewness(tips[\"tip\"]))\n",
    "\n",
    "# (ii) Determine skewness type\n",
    "def skewness_type(column):\n",
    "    skew_value = calculate_skewness(column)\n",
    "    if skew_value > 0:\n",
    "        return \"Positive Skewness\"\n",
    "    elif skew_value < 0:\n",
    "        return \"Negative Skewness\"\n",
    "    else:\n",
    "        return \"Approximately Symmetric\"\n",
    "\n",
    "print(\"Total Bill Skewness Type:\", skewness_type(tips[\"total_bill\"]))\n",
    "print(\"Tip Skewness Type:\", skewness_type(tips[\"tip\"]))\n",
    "\n",
    "# (iii) Covariance\n",
    "def calculate_covariance(column1, column2):\n",
    "    return pd.DataFrame({column1.name: column1, column2.name: column2}).cov().iloc[0, 1]\n",
    "\n",
    "print(\"Covariance between total_bill and tip:\", calculate_covariance(tips[\"total_bill\"], tips[\"tip\"]))\n",
    "\n",
    "# (iv) Pearson correlation coefficient\n",
    "def pearson_correlation(column1, column2):\n",
    "    return pearsonr(column1, column2)[0]\n",
    "\n",
    "print(\"Pearson Correlation between total_bill and tip:\", pearson_correlation(tips[\"total_bill\"], tips[\"tip\"]))\n",
    "\n",
    "# (v) Scatter plot visualization\n",
    "def visualize_correlation(column1, column2):\n",
    "    plt.scatter(column1, column2)\n",
    "    plt.xlabel(column1.name)\n",
    "    plt.ylabel(column2.name)\n",
    "    plt.title(\"Scatter Plot\")\n",
    "    plt.show()\n",
    "\n",
    "visualize_correlation(tips[\"total_bill\"], tips[\"tip\"])\n"
   ]
  },
  {
   "cell_type": "markdown",
   "id": "15393782",
   "metadata": {},
   "source": [
    "# 8) PDF of a Continuous Normal Distribution"
   ]
  },
  {
   "cell_type": "code",
   "execution_count": 19,
   "id": "581de313",
   "metadata": {},
   "outputs": [
    {
     "name": "stdout",
     "output_type": "stream",
     "text": [
      "PDF at x=0: 0.3989422804014327\n"
     ]
    }
   ],
   "source": [
    "from scipy.stats import norm\n",
    "\n",
    "def normal_pdf(x, mean=0, std_dev=1):\n",
    "    return norm.pdf(x, loc=mean, scale=std_dev)\n",
    "\n",
    "print(f\"PDF at x=0: {normal_pdf(0)}\")\n"
   ]
  },
  {
   "cell_type": "markdown",
   "id": "d57fe577",
   "metadata": {},
   "source": [
    "# 9) CDF of Exponential Distribution"
   ]
  },
  {
   "cell_type": "code",
   "execution_count": 17,
   "id": "9fcb80e5",
   "metadata": {},
   "outputs": [
    {
     "name": "stdout",
     "output_type": "stream",
     "text": [
      "CDF at x=2 for λ=1: 0.8646647167633873\n"
     ]
    }
   ],
   "source": [
    "from scipy.stats import expon\n",
    "\n",
    "def exponential_cdf(x, scale=1):\n",
    "    return expon.cdf(x, scale=scale)\n",
    "\n",
    "print(f\"CDF at x=2 for λ=1: {exponential_cdf(2, scale=1)}\")"
   ]
  },
  {
   "cell_type": "markdown",
   "id": "1630dee1",
   "metadata": {},
   "source": [
    "# 10) PMF of Poisson Distribution"
   ]
  },
  {
   "cell_type": "code",
   "execution_count": 16,
   "id": "ad8b374d",
   "metadata": {},
   "outputs": [
    {
     "name": "stdout",
     "output_type": "stream",
     "text": [
      "PMF for k=3, λ=4: 0.19536681481316454\n"
     ]
    }
   ],
   "source": [
    "from scipy.stats import poisson\n",
    "\n",
    "def poisson_pmf(k, lambda_val):\n",
    "    return poisson.pmf(k, mu=lambda_val)\n",
    "\n",
    "print(f\"PMF for k=3, λ=4: {poisson_pmf(3, 4)}\")"
   ]
  },
  {
   "cell_type": "markdown",
   "id": "e5c260f8",
   "metadata": {},
   "source": [
    "# 11) Comparing Conversion Rates Between Old and New Website Layouts"
   ]
  },
  {
   "cell_type": "code",
   "execution_count": 22,
   "id": "4e6e959d",
   "metadata": {},
   "outputs": [
    {
     "name": "stdout",
     "output_type": "stream",
     "text": [
      "Z-Statistic: -1.883108942886774\n",
      "P-Value: 0.059685605532426224\n",
      "Result: No significant difference between the layouts.\n"
     ]
    }
   ],
   "source": [
    "from statsmodels.stats.proportion import proportions_ztest\n",
    "\n",
    "\n",
    "old_layout = np.array([1] * 50 + [0] * 950)\n",
    "new_layout = np.array([1] * 70 + [0] * 930)\n",
    "\n",
    "\n",
    "success_counts = [sum(old_layout), sum(new_layout)]\n",
    "sample_sizes = [len(old_layout), len(new_layout)]\n",
    "\n",
    "\n",
    "stat, p_value = proportions_ztest(success_counts, sample_sizes)\n",
    "\n",
    "print(\"Z-Statistic:\", stat)\n",
    "print(\"P-Value:\", p_value)\n",
    "\n",
    "if p_value < 0.05:\n",
    "    print(\"Result: The new layout has a significantly different conversion rate.\")\n",
    "else:\n",
    "    print(\"Result: No significant difference between the layouts.\")"
   ]
  },
  {
   "cell_type": "markdown",
   "id": "a039d56a",
   "metadata": {},
   "source": [
    "# 12) Tutoring Program Effectiveness on Exam Scores"
   ]
  },
  {
   "cell_type": "code",
   "execution_count": 23,
   "id": "5724e8fe",
   "metadata": {},
   "outputs": [
    {
     "name": "stdout",
     "output_type": "stream",
     "text": [
      "T-Statistic: 4.593190894944668\n",
      "P-Value: 0.0013030932910086035\n",
      "Result: The tutoring program significantly improves exam scores.\n"
     ]
    }
   ],
   "source": [
    "from scipy.stats import ttest_rel\n",
    "\n",
    "\n",
    "before_program = np.array([75, 80, 85, 70, 90, 78, 92, 88, 82, 87])\n",
    "after_program = np.array([80, 85, 90, 80, 92, 80, 95, 90, 85, 88])\n",
    "\n",
    "\n",
    "stat, p_value = ttest_rel(after_program, before_program)\n",
    "\n",
    "print(\"T-Statistic:\", stat)\n",
    "print(\"P-Value:\", p_value)\n",
    "\n",
    "if p_value < 0.05:\n",
    "    print(\"Result: The tutoring program significantly improves exam scores.\")\n",
    "else:\n",
    "    print(\"Result: No significant improvement in exam scores.\")\n"
   ]
  },
  {
   "cell_type": "markdown",
   "id": "717fa787",
   "metadata": {},
   "source": [
    "# 13) Drug Effectiveness in Reducing Blood Pressure"
   ]
  },
  {
   "cell_type": "code",
   "execution_count": 24,
   "id": "97db4f9d",
   "metadata": {},
   "outputs": [
    {
     "name": "stdout",
     "output_type": "stream",
     "text": [
      "T-Statistic: 10.04987562112089\n",
      "P-Value: 3.433031432681152e-06\n",
      "Result: The drug significantly reduces blood pressure.\n"
     ]
    }
   ],
   "source": [
    "\n",
    "before_drug = np.array([145, 150, 140, 135, 155, 160, 152, 148, 130, 138])\n",
    "after_drug = np.array([130, 140, 132, 128, 145, 148, 138, 136, 125, 130])\n",
    "\n",
    "\n",
    "stat, p_value = ttest_rel(before_drug, after_drug)\n",
    "\n",
    "print(\"T-Statistic:\", stat)\n",
    "print(\"P-Value:\", p_value)\n",
    "\n",
    "if p_value < 0.05:\n",
    "    print(\"Result: The drug significantly reduces blood pressure.\")\n",
    "else:\n",
    "    print(\"Result: No significant reduction in blood pressure.\")\n"
   ]
  },
  {
   "cell_type": "markdown",
   "id": "7825c9ff",
   "metadata": {},
   "source": [
    "# 14) Testing Customer Service Department Claims (Z-Test)"
   ]
  },
  {
   "cell_type": "code",
   "execution_count": 26,
   "id": "cfb28965",
   "metadata": {},
   "outputs": [
    {
     "ename": "ImportError",
     "evalue": "cannot import name 'ztest' from 'scipy.stats' (C:\\Users\\Prince Ekka\\anaconda3\\Lib\\site-packages\\scipy\\stats\\__init__.py)",
     "output_type": "error",
     "traceback": [
      "\u001b[1;31m---------------------------------------------------------------------------\u001b[0m",
      "\u001b[1;31mImportError\u001b[0m                               Traceback (most recent call last)",
      "Cell \u001b[1;32mIn[26], line 1\u001b[0m\n\u001b[1;32m----> 1\u001b[0m \u001b[38;5;28;01mfrom\u001b[39;00m \u001b[38;5;21;01mscipy\u001b[39;00m\u001b[38;5;21;01m.\u001b[39;00m\u001b[38;5;21;01mstats\u001b[39;00m \u001b[38;5;28;01mimport\u001b[39;00m ztest\n\u001b[0;32m      3\u001b[0m response_times \u001b[38;5;241m=\u001b[39m np\u001b[38;5;241m.\u001b[39marray([\u001b[38;5;241m4.3\u001b[39m, \u001b[38;5;241m3.8\u001b[39m, \u001b[38;5;241m5.1\u001b[39m, \u001b[38;5;241m4.9\u001b[39m, \u001b[38;5;241m4.7\u001b[39m, \u001b[38;5;241m4.2\u001b[39m, \u001b[38;5;241m5.2\u001b[39m, \u001b[38;5;241m4.5\u001b[39m, \u001b[38;5;241m4.6\u001b[39m, \u001b[38;5;241m4.4\u001b[39m])\n\u001b[0;32m      5\u001b[0m \u001b[38;5;66;03m# Perform one-sample Z-test\u001b[39;00m\n",
      "\u001b[1;31mImportError\u001b[0m: cannot import name 'ztest' from 'scipy.stats' (C:\\Users\\Prince Ekka\\anaconda3\\Lib\\site-packages\\scipy\\stats\\__init__.py)"
     ]
    }
   ],
   "source": [
    "from scipy.stats import ztest\n",
    "\n",
    "response_times = np.array([4.3, 3.8, 5.1, 4.9, 4.7, 4.2, 5.2, 4.5, 4.6, 4.4])\n",
    "\n",
    "\n",
    "z_stat, p_value = ztest(response_times, value=5, alternative=\"less\")\n",
    "\n",
    "print(\"Z-Statistic:\", z_stat)\n",
    "print(\"P-Value:\", p_value)\n",
    "\n",
    "if p_value < 0.05:\n",
    "    print(\"Result: The claim that the average response time is less than 5 minutes is true.\")\n",
    "else:\n",
    "    print(\"Result: The claim that the average response time is less than 5 minutes is false.\")"
   ]
  },
  {
   "cell_type": "markdown",
   "id": "6a967bc0",
   "metadata": {},
   "source": [
    "# 15) A/B Test Analysis for Website Layouts"
   ]
  },
  {
   "cell_type": "code",
   "execution_count": 27,
   "id": "64b13312",
   "metadata": {},
   "outputs": [
    {
     "name": "stdout",
     "output_type": "stream",
     "text": [
      "T-Statistic: -7.298102156175069\n",
      "Degrees of Freedom: 17.879871863320876\n",
      "P-Value: 9.19659607078939e-07\n",
      "Result: The layouts have significantly different click-through rates.\n"
     ]
    }
   ],
   "source": [
    "def ab_test_analysis(group_a, group_b):\n",
    "    from scipy.stats import ttest_ind\n",
    "    import numpy as np\n",
    "    \n",
    "    t_stat, p_value = ttest_ind(group_a, group_b, equal_var=False)\n",
    "    \n",
    "\n",
    "    n_a, n_b = len(group_a), len(group_b)\n",
    "    var_a, var_b = np.var(group_a, ddof=1), np.var(group_b, ddof=1)\n",
    "    df = ((var_a / n_a + var_b / n_b) ** 2) / ((var_a / n_a) ** 2 / (n_a - 1) + (var_b / n_b) ** 2 / (n_b - 1))\n",
    "    \n",
    "    return t_stat, df, p_value\n",
    "\n",
    "layout_a_clicks = [28, 32, 33, 29, 31, 34, 30, 35, 36, 37]\n",
    "layout_b_clicks = [40, 41, 38, 42, 39, 44, 43, 41, 45, 47]\n",
    "\n",
    "t_stat, df, p_value = ab_test_analysis(layout_a_clicks, layout_b_clicks)\n",
    "print(\"T-Statistic:\", t_stat)\n",
    "print(\"Degrees of Freedom:\", df)\n",
    "print(\"P-Value:\", p_value)\n",
    "\n",
    "if p_value < 0.05:\n",
    "    print(\"Result: The layouts have significantly different click-through rates.\")\n",
    "else:\n",
    "    print(\"Result: No significant difference in click-through rates.\")"
   ]
  },
  {
   "cell_type": "markdown",
   "id": "0448c9a9",
   "metadata": {},
   "source": [
    "# 16) Effectiveness of New Drug vs Existing Drug"
   ]
  },
  {
   "cell_type": "code",
   "execution_count": 28,
   "id": "288614f8",
   "metadata": {},
   "outputs": [
    {
     "name": "stdout",
     "output_type": "stream",
     "text": [
      "T-Statistic: 4.140480986208659\n",
      "P-Value: 0.0006229228945469329\n",
      "Result: The new drug is significantly more effective in reducing cholesterol.\n"
     ]
    }
   ],
   "source": [
    "def analyze_drug_effectiveness(existing, new):\n",
    "    from scipy.stats import ttest_ind\n",
    "    \n",
    " \n",
    "    t_stat, p_value = ttest_ind(existing, new, equal_var=False)\n",
    "    return t_stat, p_value\n",
    "\n",
    "existing_drug_levels = [180, 182, 175, 185, 178, 176, 172, 184, 179, 183]\n",
    "new_drug_levels = [170, 172, 165, 168, 175, 173, 170, 178, 172, 176]\n",
    "\n",
    "t_stat, p_value = analyze_drug_effectiveness(existing_drug_levels, new_drug_levels)\n",
    "print(\"T-Statistic:\", t_stat)\n",
    "print(\"P-Value:\", p_value)\n",
    "\n",
    "if p_value < 0.05:\n",
    "    print(\"Result: The new drug is significantly more effective in reducing cholesterol.\")\n",
    "else:\n",
    "    print(\"Result: No significant difference in effectiveness.\")"
   ]
  },
  {
   "cell_type": "markdown",
   "id": "4244f3e4",
   "metadata": {},
   "source": [
    "# 17) Impact of Educational Intervention Program"
   ]
  },
  {
   "cell_type": "code",
   "execution_count": 29,
   "id": "e71d4652",
   "metadata": {},
   "outputs": [
    {
     "name": "stdout",
     "output_type": "stream",
     "text": [
      "T-Statistic: 4.140480986208659\n",
      "P-Value: 0.0006229228945469329\n",
      "Result: The new drug is significantly more effective in reducing cholesterol.\n"
     ]
    }
   ],
   "source": [
    "def analyze_drug_effectiveness(existing, new):\n",
    "    from scipy.stats import ttest_ind\n",
    "    \n",
    "   \n",
    "    t_stat, p_value = ttest_ind(existing, new, equal_var=False)\n",
    "    return t_stat, p_value\n",
    "\n",
    "existing_drug_levels = [180, 182, 175, 185, 178, 176, 172, 184, 179, 183]\n",
    "new_drug_levels = [170, 172, 165, 168, 175, 173, 170, 178, 172, 176]\n",
    "\n",
    "t_stat, p_value = analyze_drug_effectiveness(existing_drug_levels, new_drug_levels)\n",
    "print(\"T-Statistic:\", t_stat)\n",
    "print(\"P-Value:\", p_value)\n",
    "\n",
    "if p_value < 0.05:\n",
    "    print(\"Result: The new drug is significantly more effective in reducing cholesterol.\")\n",
    "else:\n",
    "    print(\"Result: No significant difference in effectiveness.\")\n"
   ]
  },
  {
   "cell_type": "markdown",
   "id": "123de502",
   "metadata": {},
   "source": [
    "# 18) Gender-Based Salary Gap Analysis (T-Test)"
   ]
  },
  {
   "cell_type": "code",
   "execution_count": 30,
   "id": "80b685b7",
   "metadata": {},
   "outputs": [
    {
     "name": "stdout",
     "output_type": "stream",
     "text": [
      "T-Statistic: 0.061142089696313844\n",
      "P-Value: 0.9515826849267927\n",
      "Result: No statistically significant gender-based salary gap.\n"
     ]
    }
   ],
   "source": [
    "from scipy.stats import ttest_ind\n",
    "\n",
    "np.random.seed(0)\n",
    "male_salaries = np.random.normal(loc=50000, scale=10000, size=20)\n",
    "female_salaries = np.random.normal(loc=55000, scale=9000, size=20)\n",
    "\n",
    "\n",
    "t_stat, p_value = ttest_ind(male_salaries, female_salaries, equal_var=False)\n",
    "print(\"T-Statistic:\", t_stat)\n",
    "print(\"P-Value:\", p_value)\n",
    "\n",
    "if p_value < 0.05:\n",
    "    print(\"Result: There is a statistically significant gender-based salary gap.\")\n",
    "else:\n",
    "    print(\"Result: No statistically significant gender-based salary gap.\")"
   ]
  },
  {
   "cell_type": "markdown",
   "id": "fb1c8c40",
   "metadata": {},
   "source": [
    "# 19) Quality Assessment for Two Product Versions (T-Test)"
   ]
  },
  {
   "cell_type": "code",
   "execution_count": 31,
   "id": "ebf8588a",
   "metadata": {},
   "outputs": [
    {
     "name": "stdout",
     "output_type": "stream",
     "text": [
      "T-Statistic: 11.325830417646698\n",
      "P-Value: 1.078754084378157e-14\n",
      "Result: There is a significant difference in quality between the two versions.\n"
     ]
    }
   ],
   "source": [
    "\n",
    "version1_scores = [85, 88, 82, 89, 87, 84, 90, 88, 85, 86, 91, 83, 87, 84, 89, 86, 84, 88, 85, 86, 89, 90, 87, 88, 85]\n",
    "version2_scores = [80, 78, 83, 81, 79, 82, 76, 80, 78, 81, 77, 82, 80, 79, 82, 79, 80, 81, 79, 82, 79, 78, 80, 81, 82]\n",
    "\n",
    "\n",
    "t_stat, p_value = ttest_ind(version1_scores, version2_scores, equal_var=False)\n",
    "print(\"T-Statistic:\", t_stat)\n",
    "print(\"P-Value:\", p_value)\n",
    "\n",
    "if p_value < 0.05:\n",
    "    print(\"Result: There is a significant difference in quality between the two versions.\")\n",
    "else:\n",
    "    print(\"Result: No significant difference in quality between the two versions.\")\n"
   ]
  },
  {
   "cell_type": "markdown",
   "id": "b8b0963a",
   "metadata": {},
   "source": [
    "# 20) Customer Satisfaction Between Branches (T-Test)"
   ]
  },
  {
   "cell_type": "code",
   "execution_count": 33,
   "id": "87235de5",
   "metadata": {},
   "outputs": [
    {
     "name": "stdout",
     "output_type": "stream",
     "text": [
      "T-Statistic: 5.480077554195743\n",
      "P-Value: 8.895290509945655e-07\n",
      "Result: There is a statistically significant difference in customer satisfaction between the branches.\n"
     ]
    }
   ],
   "source": [
    "\n",
    "branch_a_scores = [4, 5, 3, 4, 5, 4, 5, 3, 4, 4, 5, 4, 4, 3, 4, 5, 5, 4, 3, 4, 5, 4, 3, 5, 4, 4, 5, 3, 4, 5, 4]\n",
    "branch_b_scores = [3, 4, 2, 3, 4, 3, 4, 2, 3, 3, 4, 3, 3, 2, 3, 4, 4, 3, 2, 3, 4, 3, 2, 4, 3, 3, 4, 2, 3, 4, 3]\n",
    "\n",
    "\n",
    "t_stat, p_value = ttest_ind(branch_a_scores, branch_b_scores, equal_var=False)\n",
    "print(\"T-Statistic:\", t_stat)\n",
    "print(\"P-Value:\", p_value)\n",
    "\n",
    "if p_value < 0.05:\n",
    "    print(\"Result: There is a statistically significant difference in customer satisfaction between the branches.\")\n",
    "else:\n",
    "    print(\"Result: No statistically significant difference in customer satisfaction between the branches.\")"
   ]
  },
  {
   "cell_type": "markdown",
   "id": "9102fcdd",
   "metadata": {},
   "source": [
    "# 21) Chi-Square Test for Association Between Age Groups and Voter Preferences"
   ]
  },
  {
   "cell_type": "code",
   "execution_count": 34,
   "id": "535c1944",
   "metadata": {},
   "outputs": [
    {
     "name": "stdout",
     "output_type": "stream",
     "text": [
      "Chi-Square Statistic: 0.8779923945254768\n",
      "P-Value: 0.6446832311860852\n",
      "Degrees of Freedom: 2\n",
      "Result: No significant association between age groups and voter preferences.\n"
     ]
    }
   ],
   "source": [
    "from scipy.stats import chi2_contingency\n",
    "import pandas as pd\n",
    "\n",
    "\n",
    "np.random.seed(0)\n",
    "age_groups = np.random.choice(['18-30', '31-50', '51+'], size=500)\n",
    "voter_preferences = np.random.choice(['Candidate A', 'Candidate B'], size=500)\n",
    "\n",
    "\n",
    "contingency_table = pd.crosstab(age_groups, voter_preferences)\n",
    "\n",
    "\n",
    "chi2_stat, p_value, dof, expected = chi2_contingency(contingency_table)\n",
    "print(\"Chi-Square Statistic:\", chi2_stat)\n",
    "print(\"P-Value:\", p_value)\n",
    "print(\"Degrees of Freedom:\", dof)\n",
    "\n",
    "if p_value < 0.05:\n",
    "    print(\"Result: There is a significant association between age groups and voter preferences.\")\n",
    "else:\n",
    "    print(\"Result: No significant association between age groups and voter preferences.\")"
   ]
  },
  {
   "cell_type": "markdown",
   "id": "b21d23b9",
   "metadata": {},
   "source": [
    "# 22) Chi-Square Test for Product Satisfaction and Regions"
   ]
  },
  {
   "cell_type": "code",
   "execution_count": 38,
   "id": "5c8c62ad",
   "metadata": {},
   "outputs": [
    {
     "name": "stdout",
     "output_type": "stream",
     "text": [
      "Chi-Square Statistic: 27.777056277056275\n",
      "P-Value: 0.00010349448486004387\n",
      "Degrees of Freedom: 6\n",
      "Result: There is a significant relationship between product satisfaction levels and customer regions.\n"
     ]
    }
   ],
   "source": [
    "from scipy.stats import chi2_contingency\n",
    "import numpy as np\n",
    "\n",
    "\n",
    "data = np.array([[50, 30, 40, 20], [30, 40, 30, 50], [20, 30, 40, 30]])\n",
    "\n",
    "\n",
    "chi2_stat, p_value, dof, expected = chi2_contingency(data)\n",
    "\n",
    "print(\"Chi-Square Statistic:\", chi2_stat)\n",
    "print(\"P-Value:\", p_value)\n",
    "print(\"Degrees of Freedom:\", dof)\n",
    "\n",
    "if p_value < 0.05:\n",
    "    print(\"Result: There is a significant relationship between product satisfaction levels and customer regions.\")\n",
    "else:\n",
    "    print(\"Result: No significant relationship between product satisfaction levels and customer regions.\")\n"
   ]
  },
  {
   "cell_type": "markdown",
   "id": "891a9502",
   "metadata": {},
   "source": [
    "# 23) Chi-Square Test for Job Performance Before and After Training"
   ]
  },
  {
   "cell_type": "code",
   "execution_count": 39,
   "id": "72a85c5f",
   "metadata": {},
   "outputs": [
    {
     "name": "stdout",
     "output_type": "stream",
     "text": [
      "Chi-Square Statistic: 22.161728395061726\n",
      "P-Value: 0.00018609719479882557\n",
      "Degrees of Freedom: 4\n",
      "Result: There is a significant difference between job performance levels before and after the training.\n"
     ]
    }
   ],
   "source": [
    "\n",
    "data = np.array([[50, 30, 20], [30, 40, 30], [20, 30, 40]])\n",
    "\n",
    "\n",
    "chi2_stat, p_value, dof, expected = chi2_contingency(data)\n",
    "\n",
    "print(\"Chi-Square Statistic:\", chi2_stat)\n",
    "print(\"P-Value:\", p_value)\n",
    "print(\"Degrees of Freedom:\", dof)\n",
    "\n",
    "if p_value < 0.05:\n",
    "    print(\"Result: There is a significant difference between job performance levels before and after the training.\")\n",
    "else:\n",
    "    print(\"Result: No significant difference between job performance levels before and after the training.\")"
   ]
  },
  {
   "cell_type": "markdown",
   "id": "a284c782",
   "metadata": {},
   "source": [
    "# 24) ANOVA Test for Customer Satisfaction Scores Among Product Versions"
   ]
  },
  {
   "cell_type": "code",
   "execution_count": 37,
   "id": "d7191f32",
   "metadata": {},
   "outputs": [
    {
     "name": "stdout",
     "output_type": "stream",
     "text": [
      "F-Statistic: 27.03556231003039\n",
      "P-Value: 3.5786328857349003e-07\n",
      "Result: There is a significant difference in customer satisfaction scores among the three product versions.\n"
     ]
    }
   ],
   "source": [
    "from scipy.stats import f_oneway\n",
    "\n",
    "\n",
    "standard_scores = [80, 85, 90, 78, 88, 82, 92, 78, 85, 87]\n",
    "premium_scores = [90, 92, 88, 92, 95, 91, 96, 93, 89, 93]\n",
    "deluxe_scores = [95, 98, 92, 97, 96, 94, 98, 97, 92, 99]\n",
    "\n",
    "\n",
    "f_stat, p_value = f_oneway(standard_scores, premium_scores, deluxe_scores)\n",
    "\n",
    "print(\"F-Statistic:\", f_stat)\n",
    "print(\"P-Value:\", p_value)\n",
    "\n",
    "if p_value < 0.05:\n",
    "    print(\"Result: There is a significant difference in customer satisfaction scores among the three product versions.\")\n",
    "else:\n",
    "    print(\"Result: No significant difference in customer satisfaction scores among the three product versions.\")"
   ]
  }
 ],
 "metadata": {
  "kernelspec": {
   "display_name": "Python 3 (ipykernel)",
   "language": "python",
   "name": "python3"
  },
  "language_info": {
   "codemirror_mode": {
    "name": "ipython",
    "version": 3
   },
   "file_extension": ".py",
   "mimetype": "text/x-python",
   "name": "python",
   "nbconvert_exporter": "python",
   "pygments_lexer": "ipython3",
   "version": "3.11.3"
  }
 },
 "nbformat": 4,
 "nbformat_minor": 5
}
